{
 "cells": [
  {
   "cell_type": "code",
   "execution_count": 13,
   "metadata": {},
   "outputs": [],
   "source": [
    "import numpy as np\n",
    "import matplotlib.pyplot as plt\n",
    "\n",
    "from collections import namedtuple\n",
    "import torch\n",
    "\n",
    "from scipy.linalg import expm, toeplitz\n",
    "from numpy.linalg import inv, eig, lstsq, norm\n",
    "from numpy.fft import fft, fftshift"
   ]
  },
  {
   "cell_type": "code",
   "execution_count": 14,
   "metadata": {},
   "outputs": [],
   "source": [
    "cutoff = 30\n",
    "Layer = namedtuple('Layer', 'dielectric z')"
   ]
  },
  {
   "cell_type": "code",
   "execution_count": 15,
   "metadata": {},
   "outputs": [],
   "source": [
    "def constructToeplitz(dielec, a1):\n",
    "    xvals = np.linspace(0, a1, 8*cutoff+1, endpoint=False)\n",
    "    yvals = list(map(dielec, xvals))\n",
    "    yfft = fftshift(fft(yvals))/(8*cutoff+1)\n",
    "    positive_vals = yfft[4*cutoff : 6*cutoff+1]\n",
    "    negative_vals = yfft[2*cutoff : 4*cutoff+1][::-1]\n",
    "    return toeplitz(r = negative_vals, c = positive_vals)"
   ]
  },
  {
   "cell_type": "code",
   "execution_count": 17,
   "metadata": {},
   "outputs": [],
   "source": [
    "iden = np.identity(2*cutoff+1, dtype=complex)\n",
    "\n",
    "def branchedSquareRoot(list_of_vals):\n",
    "    list_of_roots = []\n",
    "    for z in list_of_vals:\n",
    "        if np.abs(np.imag(z)) < 1e-7: # if there is almost no imaginary part\n",
    "            if np.real(z) >= 0:\n",
    "                list_of_roots.append(np.sqrt(z)) # normal square root\n",
    "            else:\n",
    "                list_of_roots.append(1.0j*np.sqrt(-np.real(z))) # positive branch!!!\n",
    "\n",
    "        else:\n",
    "            list_of_roots.append(np.sqrt(z)) # otherwise choose the positive real branch.\n",
    "            # this correctly assigns the forward propagating modes to \n",
    "\n",
    "    return np.array(list_of_roots)\n",
    "\n",
    "\n",
    "def constructOmegaTE(layer, k0, kx, a1):\n",
    "    eps = constructToeplitz(layer.dielectric, a1)\n",
    "    omega_sq = k0**2*eps - kx @ kx\n",
    "    eigvals, eigvecs = eig(omega_sq)\n",
    "    omega = eigvecs @ np.diag(branchedSquareRoot(eigvals)) @ inv(eigvecs)\n",
    "    return omega"
   ]
  },
  {
   "cell_type": "markdown",
   "metadata": {},
   "source": [
    "The boundary conditions are very elegant when written in block diagonal form.\n",
    "Denote the coefficients of the wavefunctions as $a^+_{i}$ for the transmitting modes in layer $i$, and $a^-_{i}$ for the reflected layer.  Our goal will be to calculate $M$ where $a^-_{i} = Ma^+_{i}$, which is the reflection matrix.\n",
    "\n",
    "The boundary conditions between two layers at $z_i$ read \n",
    "$$\n",
    "\\begin{bmatrix} e^{i\\Omega_i z_i} & e^{-i\\Omega_i z_i} \\\\\n",
    "\\Omega_i e^{i\\Omega_i z_i} & -\\Omega_i e^{-i\\Omega_i z_i}\n",
    "\\end{bmatrix} \\begin{bmatrix} a_{i}^+ \\\\ a_{i}^- \\end{bmatrix} =\n",
    "\\begin{bmatrix} e^{i\\Omega_{i+1} z_i} & e^{-i\\Omega_{i+1} z_i} \\\\\n",
    "\\Omega_{i+1} e^{i\\Omega_{i+1} z_i} & -\\Omega_{i+1} e^{-i\\Omega_{i+1} z_i}\n",
    "\\end{bmatrix} \\begin{bmatrix} a_{i+1}^+ \\\\ a_{i+1}^- \\end{bmatrix} \n",
    "$$"
   ]
  },
  {
   "cell_type": "markdown",
   "metadata": {},
   "source": [
    "Define ${\\tilde a}_i^+ = e^{i\\Omega_i z_i} a_i^+$ and ${\\tilde a}_i^- = e^{-i\\Omega_i z_i} a_i^-$.  Then the matrix equation reads\n",
    "$$\n",
    "\\begin{bmatrix} I & I \\\\\n",
    "\\Omega_i & -\\Omega_i\n",
    "\\end{bmatrix} \\begin{bmatrix} {\\tilde a}_{i}^+ \\\\ {\\tilde a}_{i}^- \\end{bmatrix} =\n",
    "\\begin{bmatrix} e^{i\\Omega_{i+1} (z_i - z_{i+1})} & e^{-i\\Omega_{i+1} (z_i - z_{i+1})} \\\\\n",
    "\\Omega_{i+1} e^{i\\Omega_{i+1} (z_i - z_{i+1})} & -\\Omega_{i+1} e^{-i\\Omega_{i+1} (z_i-z_{i+1})}\n",
    "\\end{bmatrix} \\begin{bmatrix} {\\tilde a}_{i+1}^+ \\\\ {\\tilde a}_{i+1}^- \\end{bmatrix} \n",
    "$$"
   ]
  },
  {
   "cell_type": "markdown",
   "metadata": {},
   "source": [
    "with the advantage that the omegas are slightly better behaved, as the thickness is smaller than the total distance.  "
   ]
  },
  {
   "cell_type": "markdown",
   "metadata": {},
   "source": [
    "Now, we relate the matrices to one another in the transfer matrix formalism.  Let us work backwards: suppose that the two coefficients ${\\tilde a}^+_{i+1}$ and ${\\tilde a}^-_{i+1}$ are related by ${\\tilde a}^-_{i+1} = M_{i+1} {\\tilde a}^+_{i+1}$.  For the very final layer, $M_f = 0$, as there are no incoming modes.  We are using the convention that $z_i < z_{i+1}$, that is, the $z$ is increasing starting from $0$, which is the surface.  The equations read\n",
    "\n",
    "$$\n",
    "\\begin{bmatrix} I & I \\\\\n",
    "\\Omega_i & -\\Omega_i\n",
    "\\end{bmatrix} \\begin{bmatrix} {\\tilde a}_{i}^+ \\\\ {\\tilde a}_{i}^- \\end{bmatrix} =\n",
    "\\begin{bmatrix} e^{i\\Omega_{i+1} (z_i - z_{i+1})} & e^{-i\\Omega_{i+1} (z_i - z_{i+1})} \\\\\n",
    "\\Omega_{i+1} e^{i\\Omega_{i+1} (z_i - z_{i+1})} & -\\Omega_{i+1} e^{-i\\Omega_{i+1} (z_i-z_{i+1})}\n",
    "\\end{bmatrix} \\begin{bmatrix} {\\tilde a}_{i+1}^+ \\\\ M_{i+1} {\\tilde a}_{i+1}^+ \\end{bmatrix} \n",
    "$$\n",
    "which means\n",
    "$$\n",
    "\\begin{bmatrix} I & I \\\\\n",
    "\\Omega_i & -\\Omega_i\n",
    "\\end{bmatrix} \\begin{bmatrix} {\\tilde a}_{i}^+ \\\\ {\\tilde a}_{i}^- \\end{bmatrix} =\n",
    "\\begin{bmatrix} e^{i\\Omega_{i+1} (z_i - z_{i+1})} + e^{-i\\Omega_{i+1} (z_i - z_{i+1})} M_{i+1} \\\\\n",
    "\\Omega_{i+1} e^{i\\Omega_{i+1} (z_i - z_{i+1})} -\\Omega_{i+1} e^{-i\\Omega_{i+1} (z_i-z_{i+1})} M_{i+1}\n",
    "\\end{bmatrix} \\begin{bmatrix} {\\tilde a}_{i+1}^+  \\end{bmatrix}.  $$\n",
    "Define \n",
    "$$\n",
    "A_{i+1} = e^{i\\Omega_{i+1} (z_i - z_{i+1})} + e^{-i\\Omega_{i+1} (z_i - z_{i+1})} M_{i+1}, \\\\\n",
    "B_{i+1} = \\Omega_{i+1} e^{i\\Omega_{i+1} (z_i - z_{i+1})} -\\Omega_{i+1} e^{-i\\Omega_{i+1} (z_i-z_{i+1})} M_{i+1}.\n",
    "$$  \n",
    "\n",
    "Our goal will be to calculate $BA^{-1}$, but we need to do it in a way that appropriately takes care of the possibly ill-conditioned matrix \n",
    "$$\n",
    "e^{i\\Omega_{i+1} (z_i - z_{i+1})}\n",
    "$$, \n",
    "which may have extremely large eigenvalues.  To treat this, notice that if we factor out the exponential,\n",
    "\n",
    "$$\n",
    "A_{i+1} = \\left[I + e^{-i\\Omega_{i+1} (z_i - z_{i+1})} M_{i+1} e^{-i\\Omega_{i+1} (z_i - z_{i+1})}\\right] e^{i\\Omega_{i+1} (z_i - z_{i+1})} , \\\\\n",
    "B_{i+1} = \\Omega_{i+1} \\left[I - e^{-i\\Omega_{i+1} (z_i-z_{i+1})} M_{i+1} e^{-i\\Omega_{i+1} (z_i-z_{i+1})} \\right] e^{i\\Omega_{i+1} (z_i - z_{i+1})} .\n",
    "$$  \n",
    "\n",
    "Now $BA^{-1}$ reads\n",
    "$$\n",
    "B_{i+1} A_{i+1}^{-1} = \\Omega_{i+1} \\left[I - e^{-i\\Omega_{i+1} (z_i - z_{i+1})} M_{i+1} e^{-i\\Omega_{i+1} (z_i - z_{i+1})}\\right] \\left[I + e^{-i\\Omega_{i+1} (z_i-z_{i+1})} M_{i+1} e^{-i\\Omega_{i+1} (z_i-z_{i+1})} \\right]^{-1}\n",
    "$$\n",
    "with the advantage that the new exponentials should be tiny compared to $I$, so this quantity should be very well defined."
   ]
  },
  {
   "cell_type": "markdown",
   "metadata": {},
   "source": [
    "We need to find $M_i$ in terms of $M_{i+1}$.  To do this,\n",
    "$$\n",
    "\\begin{bmatrix} I & I \\\\\n",
    "\\Omega_i & -\\Omega_i\n",
    "\\end{bmatrix} \\begin{bmatrix} {\\tilde a}_{i}^+ \\\\ {\\tilde a}_{i}^- \\end{bmatrix} =\n",
    "\\begin{bmatrix} A_{i+1} \\\\\n",
    "B_{i+1}\n",
    "\\end{bmatrix} \\begin{bmatrix} {\\tilde a}_{i+1}^+  \\end{bmatrix}.  $$\n",
    "This means\n",
    "$$\n",
    "{\\tilde a}_{i}^+ + {\\tilde a}_{i}^- = A_{i+1} {\\tilde a}_{i+1}^+, \\\\\n",
    "\\Omega_i {\\tilde a}_{i}^+ - \\Omega_i {\\tilde a}_{i}^- = B_{i+1} {\\tilde a}_{i+1}^+ \\\\\n",
    "\\Omega_i {\\tilde a}_{i}^+ - \\Omega_i {\\tilde a}_{i}^- = B_{i+1} A_{i+1}^{-1} ({\\tilde a}_{i}^+ + {\\tilde a}_{i}^-)\\\\\n",
    "(-\\Omega_i - B_{i+1} A_{i+1}^{-1}) a_i^- = (-\\Omega_i + B_{i+1} A_{i+1}^{-1}){\\tilde a}_{i}^+ \\\\\n",
    "$$\n",
    "So our new matrix is\n",
    "$$\n",
    "M_i = [\\Omega_i + B_{i+1} A_{i+1}^{-1}]^{-1} [\\Omega_i - B_{i+1} A_{i+1}^{-1}]\n",
    "$$\n"
   ]
  },
  {
   "cell_type": "code",
   "execution_count": 44,
   "metadata": {},
   "outputs": [],
   "source": [
    "def constructMMatrxTE(mB, layerA, layerB, k0, kx, a1):\n",
    "    omegaA = constructOmegaTE(layerA, k0, kx, a1)\n",
    "    omegaB = constructOmegaTE(layerB, k0, kx, a1)\n",
    "    zA = layerA.z\n",
    "    zB = layerB.z\n",
    "    exp_omegaB = expm(-1.0j*omegaB*(zA-zB))\n",
    "    conjugatemB = exp_omegaB @ mB @ exp_omegaB\n",
    "    bainv =  omegaB @ (iden - conjugatemB) @ inv(iden + conjugatemB)\n",
    "    ma = inv(omegaA + bainv) @ (omegaA - bainv)\n",
    "    return ma\n",
    "    "
   ]
  },
  {
   "cell_type": "code",
   "execution_count": 55,
   "metadata": {},
   "outputs": [],
   "source": [
    "reflectance = []\n",
    "\n",
    "for wavelength in range(200,1500,2):\n",
    "\n",
    "    k0 = 2*np.pi/wavelength*1000\n",
    "    lattice = 0.2\n",
    "    deg = np.pi/180.0\n",
    "    theta = 70 * deg\n",
    "    n1 = 1.0 # index of refraction of first medium\n",
    "    a1 = 0.2\n",
    "    kx_incident = n1 * np.sin(theta)\n",
    "    cutoff = 30\n",
    "\n",
    "    kx_inc = k0 * n1 * np.sin(theta) # conserved mod 2pi/a1\n",
    "    kx = np.diag([kx_inc - 2*np.pi*m/a1 for m in range(-cutoff, cutoff+1)])\n",
    "\n",
    "\n",
    "    layer1 = Layer(lambda x: 1.0, 0.0)\n",
    "    layer2 = Layer(lambda x: 1.0 if x + 1e-7 % a1 < a1/2 else 25.0, 0.1)\n",
    "    layer2_5 = Layer(lambda x: 1.0 if x + 1e-7 % a1 < a1/2 else 25.0, 0.2)\n",
    "    layer3 = Layer(lambda x: 25.0, 0.2) # this very last value does not enter in the calculation\n",
    "\n",
    "    mom = constructMMatrxTE(np.zeros((2*cutoff+1, 2*cutoff+1), dtype=complex), layer2_5, layer3, k0, kx, a1)\n",
    "    mom2_5 = constructMMatrxTE(mom, layer2, layer2_5, k0, kx, a1)\n",
    "    mom2 = constructMMatrxTE(mom2_5, layer1, layer2, k0, kx, a1)\n",
    "\n",
    "    reflectance.append(mom2[cutoff,cutoff])"
   ]
  },
  {
   "cell_type": "code",
   "execution_count": 56,
   "metadata": {},
   "outputs": [
    {
     "data": {
      "text/plain": [
       "[<matplotlib.lines.Line2D at 0x2a57ea37310>]"
      ]
     },
     "execution_count": 56,
     "metadata": {},
     "output_type": "execute_result"
    },
    {
     "data": {
      "image/png": "[encoded data removed]",
      "text/plain": [
       "<Figure size 640x480 with 1 Axes>"
      ]
     },
     "metadata": {},
     "output_type": "display_data"
    }
   ],
   "source": [
    "plt.plot(np.array(range(200,1500,2)), np.abs(reflectance)**2)"
   ]
  },
  {
   "cell_type": "code",
   "execution_count": 36,
   "metadata": {},
   "outputs": [],
   "source": [
    "def constructOmegaTM(layer, k0, kx, a1):\n",
    "    eps = constructToeplitz(layer.dielectric, a1)\n",
    "    inv_eps = constructToeplitz(lambda x : 1.0/layer.dielectric(x), a1)\n",
    "    omega_sq = inv(inv_eps) @ (k0**2 * iden - kx @ inv(eps) @ kx)\n",
    "    eigvals, eigvecs = eig(omega_sq)\n",
    "    omega = eigvecs @ np.diag(branchedSquareRoot(eigvals)) @ inv(eigvecs)\n",
    "    return omega, inv_eps"
   ]
  },
  {
   "cell_type": "code",
   "execution_count": 37,
   "metadata": {},
   "outputs": [],
   "source": [
    "def constructMMatrxTM(mB, layerA, layerB, k0, kx, a1):\n",
    "    omegaA, inv_eps_A = constructOmegaTM(layerA, k0, kx, a1)\n",
    "    omegaB, inv_eps_B = constructOmegaTM(layerB, k0, kx, a1)\n",
    "    zA = layerA.z\n",
    "    zB = layerB.z\n",
    "    exp_omegaB = expm(-1.0j*omegaB*(zA-zB))\n",
    "    conjugatemB = exp_omegaB @ mB @ exp_omegaB\n",
    "    bainv =  inv_eps_B @ omegaB @ (iden - conjugatemB) @ inv(iden + conjugatemB)\n",
    "    ma = inv(inv_eps_A @ omegaA + bainv) @ (inv_eps_A @ omegaA - bainv)\n",
    "    return ma\n",
    "    "
   ]
  },
  {
   "cell_type": "code",
   "execution_count": 38,
   "metadata": {},
   "outputs": [],
   "source": [
    "reflectance = []\n",
    "\n",
    "for wavelength in range(200,1500,2):\n",
    "\n",
    "    k0 = 2*np.pi/wavelength*1000\n",
    "    lattice = 0.2\n",
    "    deg = np.pi/180.0\n",
    "    theta = 70 * deg\n",
    "    n1 = 1.0 # index of refraction of first medium\n",
    "    a1 = 0.2\n",
    "    kx_incident = n1 * np.sin(theta)\n",
    "    cutoff = 30\n",
    "\n",
    "    kx_inc = k0 * n1 * np.sin(theta) # conserved mod 2pi/a1\n",
    "    kx = np.diag([kx_inc - 2*np.pi*m/a1 for m in range(-cutoff, cutoff+1)])\n",
    "\n",
    "    layer1 = Layer(lambda x: 1.0, 0.0)\n",
    "    layer2 = Layer(lambda x: 1.0 if x + 1e-7 % a1 < a1/2 else 25.0, 0.1)\n",
    "    layer2_5 = Layer(lambda x: 1.0 if x + 1e-7 % a1 < a1/2 else 25.0, 0.2)\n",
    "    layer3 = Layer(lambda x: 25.0, 0.2) # this very last value does not enter in the calculation\n",
    "\n",
    "    mom = constructMMatrxTM(np.zeros((2*cutoff+1, 2*cutoff+1), dtype=complex), layer2_5, layer3, k0, kx, a1)\n",
    "    mom2_5 = constructMMatrxTM(mom, layer2, layer2_5, k0, kx, a1)\n",
    "    mom2 = constructMMatrxTM(mom2_5, layer1, layer2, k0, kx, a1)\n",
    "\n",
    "    reflectance.append(mom2[cutoff,cutoff])"
   ]
  },
  {
   "cell_type": "code",
   "execution_count": 52,
   "metadata": {},
   "outputs": [],
   "source": [
    "def compileTE(layers, k0, kx, a1):\n",
    "    m0 = np.zeros((2*cutoff+1, 2*cutoff+1), dtype=complex)\n",
    "    assert len(layers) > 1\n",
    "\n",
    "    for i in range(len(layers)-1):\n",
    "        current_layer_B = len(layers) - i - 1\n",
    "        current_layer_A = len(layers) - i - 2\n",
    "\n",
    "        m0 = constructMMatrxTE(m0, layers[current_layer_A], layers[current_layer_B], k0, kx, a1)\n",
    "    \n",
    "    return m0\n",
    "\n",
    "def compileTM(layers, k0, kx, a1):\n",
    "    m0 = np.zeros((2*cutoff+1, 2*cutoff+1), dtype=complex)\n",
    "    assert len(layers) > 1\n",
    "\n",
    "    for i in range(len(layers)-1):\n",
    "        current_layer_B = len(layers) - i - 1\n",
    "        current_layer_A = len(layers) - i - 2\n",
    "\n",
    "        m0 = constructMMatrxTM(m0, layers[current_layer_A], layers[current_layer_B], k0, kx, a1)\n",
    "    \n",
    "    return m0\n"
   ]
  },
  {
   "cell_type": "code",
   "execution_count": 57,
   "metadata": {},
   "outputs": [],
   "source": [
    "layerList = [layer1, layer2_5, layer3]\n",
    "\n",
    "reflectanceTE = []\n",
    "reflectanceTM = []\n",
    "\n",
    "for wavelength in range(200,1500,2):\n",
    "    \n",
    "\n",
    "    k0 = 2*np.pi/wavelength*1000\n",
    "    lattice = 0.2\n",
    "    deg = np.pi/180.0\n",
    "    theta = 70 * deg\n",
    "    n1 = 1.0 # index of refraction of first medium\n",
    "    a1 = 0.2\n",
    "    kx_incident = n1 * np.sin(theta)\n",
    "    cutoff = 30\n",
    "\n",
    "    kx_inc = k0 * n1 * np.sin(theta) # conserved mod 2pi/a1\n",
    "    kx = np.diag([kx_inc - 2*np.pi*m/a1 for m in range(-cutoff, cutoff+1)])\n",
    "\n",
    "\n",
    "    momTE = compileTE(layerList, k0, kx, a1)\n",
    "    momTM = compileTM(layerList, k0, kx, a1)\n",
    "\n",
    "    reflectanceTE.append(momTE[cutoff,cutoff])\n",
    "    reflectanceTM.append(momTM[cutoff,cutoff])\n",
    "\n"
   ]
  },
  {
   "cell_type": "code",
   "execution_count": 58,
   "metadata": {},
   "outputs": [
    {
     "data": {
      "text/plain": [
       "[<matplotlib.lines.Line2D at 0x2a57ea5f550>]"
      ]
     },
     "execution_count": 58,
     "metadata": {},
     "output_type": "execute_result"
    },
    {
     "data": {
      "image/png": "[encoded data removed]",
      "text/plain": [
       "<Figure size 640x480 with 1 Axes>"
      ]
     },
     "metadata": {},
     "output_type": "display_data"
    }
   ],
   "source": [
    "plt.plot(np.array(range(200,1500,2)), np.abs(reflectanceTE)**2)\n",
    "plt.plot(np.array(range(200,1500,2)), np.abs(reflectanceTM)**2)"
   ]
  },
  {
   "cell_type": "markdown",
   "metadata": {},
   "source": [
    "Rearranging the terms to get a scattering matrix form:\n",
    "\n",
    "$$\n",
    "\\begin{bmatrix} I & -e^{-i\\Omega_{i+1} (z_i - z_{i+1})} \\\\\n",
    "\\Omega_i & \\Omega_{i+1} e^{-i\\Omega_{i+1} (z_i-z_{i+1})}\n",
    "\\end{bmatrix} \\begin{bmatrix} {\\tilde a}_{i}^+ \\\\ {\\tilde a}_{i+1}^- \\end{bmatrix} =\n",
    "\\begin{bmatrix} e^{i\\Omega_{i+1} (z_i - z_{i+1})} & -I \\\\\n",
    "\\Omega_{i+1} e^{i\\Omega_{i+1} (z_i - z_{i+1})} & \\Omega_i\n",
    "\\end{bmatrix} \\begin{bmatrix} {\\tilde a}_{i+1}^+ \\\\ {\\tilde a}_{i}^- \\end{bmatrix} \n",
    "$$\n",
    "\n",
    "We'll thus define the scattering matrix to be\n",
    "\n",
    "$$\n",
    "S_i = \\text{lstsq}\\left(\\begin{bmatrix} I & -e^{-i\\Omega_{i+1} (z_i - z_{i+1})} \\\\\n",
    "\\Omega_i & \\Omega_{i+1} e^{-i\\Omega_{i+1} (z_i-z_{i+1})}\n",
    "\\end{bmatrix},\n",
    "\\begin{bmatrix} e^{i\\Omega_{i+1} (z_i - z_{i+1})} & -I \\\\\n",
    "\\Omega_{i+1} e^{i\\Omega_{i+1} (z_i - z_{i+1})} & \\Omega_i\n",
    "\\end{bmatrix} \\right)\n",
    "$$,\n",
    "where $\\text{lstsq}(A, B)$ solves the system $Ax = B$ and returns $x$.  The least squares command is more robust than inverting $A$, especially when values are singular.\n",
    "\n",
    "Because we have absorbed non-unit factors into the coefficients $a_\\pm$, it will be likely that the scattering matrix will not be unitary.  What is unitary, however, will be the relation between the incoming and outgoing modes."
   ]
  },
  {
   "cell_type": "code",
   "execution_count": 54,
   "metadata": {},
   "outputs": [],
   "source": [
    "def constructScatteringMatrixTE(layerA, layerB):\n",
    "    omegaA = constructOmegaTE(layerA)\n",
    "    omegaB = constructOmegaTE(layerB)\n",
    "    zA = layerA.z\n",
    "    zB = layerB.z\n",
    "    print(zA - zB)\n",
    "    expBp = expm(1.0j * omegaB * (zA - zB))\n",
    "    expBm = expm(-1.0j * omegaB * (zA - zB))\n",
    "\n",
    "    Amat = np.block([[iden, -expBm],\\\n",
    "                   [omegaA, omegaB @ expBm]])\n",
    "    \n",
    "    Bmat = np.block([[expBp, -iden],\\\n",
    "                     [omegaB @ expBp, omegaA]])\n",
    "    \n",
    "    print(norm(Amat))\n",
    "    print(norm(Bmat))\n",
    "    \n",
    "    return lstsq(Amat, Bmat)"
   ]
  },
  {
   "cell_type": "code",
   "execution_count": 55,
   "metadata": {},
   "outputs": [
    {
     "name": "stdout",
     "output_type": "stream",
     "text": [
      "0.0\n",
      "3365.997527101079\n",
      "3365.997527101079\n"
     ]
    },
    {
     "name": "stderr",
     "output_type": "stream",
     "text": [
      "C:\\Users\\aaron\\AppData\\Local\\Temp\\ipykernel_9664\\2783140554.py:19: FutureWarning: `rcond` parameter will change to the default of machine precision times ``max(M, N)`` where M and N are the input matrix dimensions.\n",
      "To use the future default and silence this warning we advise to pass `rcond=None`, to keep using the old, explicitly pass `rcond=-1`.\n",
      "  return lstsq(Amat, Bmat)\n"
     ]
    }
   ],
   "source": [
    "s1 = constructScatteringMatrixTE(layer1, layer3)"
   ]
  },
  {
   "cell_type": "code",
   "execution_count": 51,
   "metadata": {},
   "outputs": [],
   "source": [
    "incoming = np.zeros((4*cutoff+2, 1))\n",
    "incoming[cutoff,0] = 1"
   ]
  },
  {
   "cell_type": "code",
   "execution_count": null,
   "metadata": {},
   "outputs": [],
   "source": [
    "kx_inc = n1 * np.sin(theta)\n",
    "reflectance = []\n",
    "iden = np.identity(2*cutoff+1, dtype=complex)\n",
    "\n",
    "for wavelength in range(200,1400,200):\n",
    "    k0 = 2*np.pi/wavelength\n",
    "    a1 = 0.2 * k0\n",
    "    depth1 = 0.2*k0\n",
    "    cutoff = 50\n",
    "\n",
    "    layer1 = Layer(lambda x: 1.0, 0.0)\n",
    "    layer2 = Layer(lambda x: 1.0 if x + 1e-7 % a1 < a1/2 else 11.0, depth1)\n",
    "    layer3 = Layer(lambda x: 11.0, depth1)\n",
    "    \n",
    "     # conserved mod 2pi/a1\n",
    "    kx = np.diag([kx_inc - 2*np.pi*m/a1 for m in range(-cutoff, cutoff+1)])\n",
    "\n",
    "    mom = constructMMatrx(np.zeros((2*cutoff+1, 2*cutoff+1), dtype=complex), layer2, layer3)\n",
    "    mom2 = constructMMatrx(mom, layer1, layer2)\n",
    "\n",
    "    reflectance.append(mom2[cutoff][cutoff])"
   ]
  },
  {
   "cell_type": "code",
   "execution_count": null,
   "metadata": {},
   "outputs": [],
   "source": [
    "def constructTransferMatrixTE(layerA, layerB):\n",
    "    omegaA = constructOmegaTE(layerA)\n",
    "    omegaB = constructOmegaTE(layerB)\n",
    "    zA = layerA.z\n",
    "    zB = layerB.z\n",
    "    print(zA - zB)\n",
    "    expBp = expm(1.0j * omegaB * (zA - zB))\n",
    "    expBm = expm(-1.0j * omegaB * (zA - zB))\n",
    "\n",
    "    Amat = np.block([[iden, iden],\\\n",
    "                   [omegaA, -omegaA]])\n",
    "    \n",
    "    Bmat = np.block([[expBp, expBm],\\\n",
    "                     [omegaB @ expBp, -omegaB @ expBm]])\n",
    "    \n",
    "    print(norm(Amat))\n",
    "    print(norm(Bmat))\n",
    "    \n",
    "    return lstsq(Amat, Bmat)"
   ]
  }
 ],
 "metadata": {
  "kernelspec": {
   "display_name": "base",
   "language": "python",
   "name": "python3"
  },
  "language_info": {
   "codemirror_mode": {
    "name": "ipython",
    "version": 3
   },
   "file_extension": ".py",
   "mimetype": "text/x-python",
   "name": "python",
   "nbconvert_exporter": "python",
   "pygments_lexer": "ipython3",
   "version": "3.11.5"
  }
 },
 "nbformat": 4,
 "nbformat_minor": 2
}
